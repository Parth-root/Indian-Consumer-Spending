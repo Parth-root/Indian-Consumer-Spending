{
 "cells": [
  {
   "cell_type": "markdown",
   "metadata": {
    "colab_type": "text",
    "id": "view-in-github"
   },
   "source": [
    "<a href=\"https://colab.research.google.com/github/ParasharSneha/Project/blob/main/diagnosis_of_pneumonia_by_cnn_classifier2.ipynb\" target=\"_parent\"><img src=\"https://colab.research.google.com/assets/colab-badge.svg\" alt=\"Open In Colab\"/></a>"
   ]
  },
  {
   "cell_type": "markdown",
   "metadata": {
    "id": "ifiXVcqZHxOM"
   },
   "source": [
    "# <p><center style=\"font-family:newtimeroman;font-size:180%;\">Pneumonia Classification by Tensorflow </center></p>\n",
    "### Table of contents:\n",
    "\n",
    "* [Introduction](#1)\n",
    "* [Import Libraries](#2)\n",
    "* [Import Dataset](#3)\n",
    "* [Visualization Of Dataset](#4)\n",
    "* [Preprocessing Data](#5)\n",
    "* [Train & Compile a CNN Model](#6)\n",
    "* [Evaluate The Model](#7)\n",
    "* [Save Model](#8)"
   ]
  },
  {
   "cell_type": "markdown",
   "metadata": {
    "id": "omi1YyWvHxOb"
   },
   "source": [
    "<a id=\"1\"></a>\n",
    "# <p style=\"background-image: url(https://i.postimg.cc/K87ByXmr/stage5.jpg);font-family:camtasia;font-size:120%;color:white;text-align:center;border-radius:15px 50px; padding:7px\"> Introduction</p>"
   ]
  },
  {
   "cell_type": "code",
   "execution_count": null,
   "metadata": {},
   "outputs": [],
   "source": [
    "!pip install --upgrade pip"
   ]
  },
  {
   "cell_type": "code",
   "execution_count": null,
   "metadata": {},
   "outputs": [],
   "source": [
    "!pip install tensorflow"
   ]
  },
  {
   "cell_type": "code",
   "execution_count": null,
   "metadata": {
    "id": "BQXMm6iYIXRD"
   },
   "outputs": [],
   "source": [
    "!pip install -q kaggle"
   ]
  },
  {
   "cell_type": "markdown",
   "metadata": {
    "id": "V-Hdg1idIXfD"
   },
   "source": [
    "!mkdir -p ~/.kaggle"
   ]
  },
  {
   "cell_type": "markdown",
   "metadata": {
    "id": "CS54ExbKIXio"
   },
   "source": [
    "!cp kaggle.json ~/.kaggle/"
   ]
  },
  {
   "cell_type": "markdown",
   "metadata": {
    "id": "LXOCT8ouIXkV"
   },
   "source": [
    "!chmod 600 /root/.kaggle/kaggle.json"
   ]
  },
  {
   "cell_type": "markdown",
   "metadata": {
    "id": "tKQ6U59oIXmo"
   },
   "source": [
    "! kaggle datasets download -d paultimothymooney/chest-xray-pneumonia"
   ]
  },
  {
   "cell_type": "markdown",
   "metadata": {
    "id": "6yp31C7xIXp2"
   },
   "source": [
    "! unzip chest-xray-pneumonia.zip"
   ]
  },
  {
   "cell_type": "markdown",
   "metadata": {
    "id": "GZeHgP7EHxOd"
   },
   "source": [
    "<a id=\"2\"></a>\n",
    "# <p style=\"background-image: url(https://i.postimg.cc/K87ByXmr/stage5.jpg);font-family:camtasia;font-size:120%;color:white;text-align:center;border-radius:15px 50px; padding:7px\"> Import libraries</p>"
   ]
  },
  {
   "cell_type": "markdown",
   "metadata": {
    "id": "26pBU5E5I6Wd"
   },
   "source": [
    "from google.colab import drive\n",
    "drive.mount('/content/drive')"
   ]
  },
  {
   "cell_type": "code",
   "execution_count": null,
   "metadata": {
    "execution": {
     "iopub.execute_input": "2023-08-19T08:13:51.291586Z",
     "iopub.status.busy": "2023-08-19T08:13:51.290995Z",
     "iopub.status.idle": "2023-08-19T08:14:00.927157Z",
     "shell.execute_reply": "2023-08-19T08:14:00.925448Z",
     "shell.execute_reply.started": "2023-08-19T08:13:51.291551Z"
    },
    "id": "KRZ0B3ssHxOd"
   },
   "outputs": [],
   "source": [
    "import numpy as np\n",
    "import tensorflow as tf\n",
    "from tensorflow import keras\n",
    "import matplotlib.pyplot as plt\n",
    "import seaborn as sns\n",
    "sns.set(style= \"darkgrid\", color_codes = True)\n",
    "from tensorflow.keras.applications import VGG16\n",
    "from tensorflow.keras.models import Sequential\n",
    "from tensorflow.keras.layers import Conv2D, MaxPooling2D, Dense, Flatten, Dropout, Input\n",
    "from keras.regularizers import l2\n",
    "from tensorflow.keras.metrics import Precision, Recall, BinaryAccuracy\n",
    "from sklearn.metrics import roc_curve, auc\n",
    "from tensorflow.keras.preprocessing.image import  load_img\n",
    "from sklearn.metrics import classification_report, confusion_matrix\n",
    "import warnings\n",
    "warnings.filterwarnings('ignore')"
   ]
  },
  {
   "cell_type": "code",
   "execution_count": null,
   "metadata": {
    "id": "9bdEb4fNST-4"
   },
   "outputs": [],
   "source": [
    "import pandas as pd"
   ]
  },
  {
   "cell_type": "markdown",
   "metadata": {
    "id": "CuSkANRyHxOh"
   },
   "source": [
    "<a id=\"3\"></a>\n",
    "# <p style=\"background-image: url(https://i.postimg.cc/K87ByXmr/stage5.jpg);font-family:camtasia;font-size:120%;color:white;text-align:center;border-radius:15px 50px; padding:7px\">Import Data</p>\n",
    "<a class=\"btn\" href=\"#home\">Tabel of Contents</a>"
   ]
  },
  {
   "cell_type": "code",
   "execution_count": null,
   "metadata": {
    "execution": {
     "iopub.execute_input": "2023-08-19T08:14:11.774460Z",
     "iopub.status.busy": "2023-08-19T08:14:11.773780Z",
     "iopub.status.idle": "2023-08-19T08:14:18.664091Z",
     "shell.execute_reply": "2023-08-19T08:14:18.663177Z",
     "shell.execute_reply.started": "2023-08-19T08:14:11.774423Z"
    },
    "id": "nc1cYqBBHxOi"
   },
   "outputs": [],
   "source": [
    "# Define image size and other parameters\n",
    "img_width, img_height = 198, 198\n",
    "batchsize = 32\n",
    "epochs = 2\n",
    "num_of_class = 2\n",
    "\n",
    "train = keras. utils.image_dataset_from_directory(\n",
    "    directory='chest_xray/train',\n",
    "    labels='inferred',\n",
    "    label_mode='categorical',\n",
    "    batch_size=batchsize,\n",
    "    image_size=(img_width, img_height))\n",
    "\n",
    "validation = keras. utils.image_dataset_from_directory(\n",
    "    directory='chest_xray/val',\n",
    "    labels='inferred',\n",
    "    label_mode='categorical',\n",
    "    batch_size=batchsize,\n",
    "    image_size=(img_width, img_height))\n",
    "\n",
    "test = keras. utils.image_dataset_from_directory(\n",
    "    directory='chest_xray/test',\n",
    "    labels='inferred',\n",
    "    label_mode='categorical',\n",
    "    batch_size=batchsize,\n",
    "    image_size=(img_width, img_height))\n"
   ]
  },
  {
   "cell_type": "markdown",
   "metadata": {
    "id": "01PZD5A8HxOj"
   },
   "source": [
    "<a id=\"4\"></a>\n",
    "# <p style=\"background-image: url(https://i.postimg.cc/K87ByXmr/stage5.jpg);font-family:camtasia;font-size:120%;color:white;text-align:center;border-radius:15px 50px; padding:7px\">Visualization Of Data </p>\n",
    "<a class=\"btn\" href=\"#home\">Tabel of Contents</a>"
   ]
  },
  {
   "cell_type": "code",
   "execution_count": null,
   "metadata": {
    "execution": {
     "iopub.execute_input": "2023-08-19T08:14:23.261851Z",
     "iopub.status.busy": "2023-08-19T08:14:23.261434Z",
     "iopub.status.idle": "2023-08-19T08:14:23.444035Z",
     "shell.execute_reply": "2023-08-19T08:14:23.442554Z",
     "shell.execute_reply.started": "2023-08-19T08:14:23.261816Z"
    },
    "id": "weo0rxcIHxOk"
   },
   "outputs": [],
   "source": [
    "plt.pie([len(train), len(validation), len(test)],\n",
    "        labels=['train', 'validation', 'test'], autopct='%.1f%%', colors=['orange', 'red', 'lightblue'], explode=(0.05, 0, 0))\n",
    "plt.show()"
   ]
  },
  {
   "cell_type": "code",
   "execution_count": null,
   "metadata": {
    "editable": false,
    "execution": {
     "iopub.execute_input": "2023-08-19T08:08:43.856432Z",
     "iopub.status.busy": "2023-08-19T08:08:43.856023Z",
     "iopub.status.idle": "2023-08-19T08:08:43.863711Z",
     "shell.execute_reply": "2023-08-19T08:08:43.861930Z",
     "shell.execute_reply.started": "2023-08-19T08:08:43.856395Z"
    },
    "id": "iBAi0XQ_HxOk"
   },
   "outputs": [],
   "source": [
    "print(train.class_names)\n",
    "print(validation.class_names)\n",
    "print(test.class_names)"
   ]
  },
  {
   "cell_type": "code",
   "execution_count": null,
   "metadata": {
    "editable": false,
    "execution": {
     "iopub.execute_input": "2023-08-19T08:14:31.358329Z",
     "iopub.status.busy": "2023-08-19T08:14:31.357949Z",
     "iopub.status.idle": "2023-08-19T08:14:36.187833Z",
     "shell.execute_reply": "2023-08-19T08:14:36.186937Z",
     "shell.execute_reply.started": "2023-08-19T08:14:31.358293Z"
    },
    "id": "HuzlL04bHxOl"
   },
   "outputs": [],
   "source": [
    "data_iterator = train.as_numpy_iterator()\n",
    "batch = data_iterator.next()\n",
    "fig, ax = plt.subplots(ncols=4, figsize=(20,20))\n",
    "for idx, img in enumerate(batch[0][:4]):\n",
    "    ax[idx].imshow(img.astype(int))\n",
    "    ax[idx].title.set_text(batch[1][idx])"
   ]
  },
  {
   "cell_type": "markdown",
   "metadata": {
    "id": "rMiwlnSjHxOm"
   },
   "source": [
    "<a id=\"5\"></a>\n",
    "# <p style=\"background-image: url(https://i.postimg.cc/K87ByXmr/stage5.jpg);font-family:camtasia;font-size:120%;color:white;text-align:center;border-radius:15px 50px; padding:7px\"> Preprocessing Data </p>\n",
    "<a class=\"btn\" href=\"#home\">Tabel of Contents</a>"
   ]
  },
  {
   "cell_type": "code",
   "execution_count": null,
   "metadata": {
    "execution": {
     "iopub.execute_input": "2023-08-19T08:14:40.424013Z",
     "iopub.status.busy": "2023-08-19T08:14:40.423656Z",
     "iopub.status.idle": "2023-08-19T08:15:30.846854Z",
     "shell.execute_reply": "2023-08-19T08:15:30.845800Z",
     "shell.execute_reply.started": "2023-08-19T08:14:40.423982Z"
    },
    "id": "I3CcOoXUHxOn"
   },
   "outputs": [],
   "source": [
    "# Extracting Features and Labels\n",
    "x_train = []\n",
    "y_train = []\n",
    "x_val = []\n",
    "y_val = []\n",
    "x_test = []\n",
    "y_test = []\n",
    "\n",
    "for feature, label in train:\n",
    "    x_train.append(feature.numpy())\n",
    "    y_train.append(label.numpy())\n",
    "\n",
    "for feature, label in test:\n",
    "    x_test.append(feature.numpy())\n",
    "    y_test.append(label.numpy())\n",
    "\n",
    "for feature, label in validation:\n",
    "    x_val.append(feature.numpy())\n",
    "    y_val.append(label.numpy())\n",
    "\n",
    "# Concatenate the lists to get the full 'x' and 'y' arrays\n",
    "x_train = np.concatenate(x_train, axis=0)\n",
    "x_val = np.concatenate(x_val, axis=0)\n",
    "x_test = np.concatenate(x_test, axis=0)\n",
    "y_train = np.concatenate(y_train, axis=0)\n",
    "y_val = np.concatenate(y_val, axis=0)\n",
    "y_test = np.concatenate(y_test, axis=0)\n"
   ]
  },
  {
   "cell_type": "code",
   "execution_count": null,
   "metadata": {
    "execution": {
     "iopub.execute_input": "2023-08-19T08:15:49.703880Z",
     "iopub.status.busy": "2023-08-19T08:15:49.703170Z",
     "iopub.status.idle": "2023-08-19T08:15:49.714061Z",
     "shell.execute_reply": "2023-08-19T08:15:49.709337Z",
     "shell.execute_reply.started": "2023-08-19T08:15:49.703845Z"
    },
    "id": "8fvKkfB9HxOn"
   },
   "outputs": [],
   "source": [
    "# check the shapes of 'x_train' and 'y_train':\n",
    "print(\"Shape of 'x_train':\", x_train.shape)\n",
    "print(\"Shape of 'y_train':\", y_train.shape)\n",
    "print(\"Shape of 'x_val':\", x_val.shape)\n",
    "print(\"Shape of 'y_val':\", y_val.shape)\n",
    "print(\"Shape of 'x_test':\", x_test.shape)\n",
    "print(\"Shape of 'y_test':\", y_test.shape)"
   ]
  },
  {
   "cell_type": "code",
   "execution_count": null,
   "metadata": {
    "execution": {
     "iopub.execute_input": "2023-08-19T08:15:53.796002Z",
     "iopub.status.busy": "2023-08-19T08:15:53.795631Z",
     "iopub.status.idle": "2023-08-19T08:15:57.838753Z",
     "shell.execute_reply": "2023-08-19T08:15:57.825544Z",
     "shell.execute_reply.started": "2023-08-19T08:15:53.795971Z"
    },
    "id": "ii_XCUXuHxOo"
   },
   "outputs": [],
   "source": [
    "# Pixel Value Scaling for Datasets: Normalizing and Standardizing the Data\n",
    "x_train=x_train/256\n",
    "x_val=x_val/256\n",
    "x_test=x_test/256"
   ]
  },
  {
   "cell_type": "markdown",
   "metadata": {
    "id": "wBp9JImrHxOo"
   },
   "source": [
    "<a id=\"6\"></a>\n",
    "# <p style=\"background-image: url(https://i.postimg.cc/K87ByXmr/stage5.jpg);font-family:camtasia;font-size:120%;color:white;text-align:center;border-radius:15px 50px; padding:7px\"> Train and Compile a Model </p>\n",
    "<a class=\"btn\" href=\"#home\">Tabel of Contents</a>"
   ]
  },
  {
   "cell_type": "code",
   "execution_count": null,
   "metadata": {
    "execution": {
     "iopub.execute_input": "2023-08-19T08:16:00.461838Z",
     "iopub.status.busy": "2023-08-19T08:16:00.461473Z",
     "iopub.status.idle": "2023-08-19T08:16:02.126227Z",
     "shell.execute_reply": "2023-08-19T08:16:02.125239Z",
     "shell.execute_reply.started": "2023-08-19T08:16:00.461809Z"
    },
    "id": "JnKo2HxhHxOp"
   },
   "outputs": [],
   "source": [
    "# We use transfer learning with VGG16 as the base model\n",
    "def CNN_Model():\n",
    "    base_model = VGG16(weights='imagenet', include_top = False, input_shape=(img_width, img_height, 3))\n",
    "    # Freeze the base model\n",
    "    for layer in base_model.layers:\n",
    "        layer.trainable = False\n",
    "\n",
    "    for i in range(3):\n",
    "        base_model.layers[-2-i].trainable = True\n",
    "\n",
    "    CNN = Sequential()\n",
    "    CNN.add(Input(shape=(img_width, img_height,3)))\n",
    "    CNN.add(base_model)\n",
    "    CNN.add(Flatten())\n",
    "    CNN.add(Dropout(0.3))\n",
    "    CNN.add(Dense(128, activation='relu', kernel_regularizer=l2(0.02)))\n",
    "    CNN.add(Dropout(0.2))\n",
    "    CNN.add(Dense(2, activation='sigmoid'))\n",
    "\n",
    "    return CNN\n",
    "\n",
    "# Training The CNN\n",
    "model = CNN_Model()\n",
    "model.compile(optimizer='adam', loss='binary_crossentropy', metrics=['accuracy'])\n",
    "model.summary()\n",
    "# Visualized Layers of CNN\n",
    "keras.utils.plot_model(model, show_shapes=True)"
   ]
  },
  {
   "cell_type": "code",
   "execution_count": null,
   "metadata": {
    "execution": {
     "iopub.execute_input": "2023-08-19T08:16:08.518691Z",
     "iopub.status.busy": "2023-08-19T08:16:08.518327Z"
    },
    "id": "HznTCO86HxOq"
   },
   "outputs": [],
   "source": [
    "hist = model.fit(x_train, y_train, epochs= epochs, validation_data= (x_val, y_val))\n",
    "print(hist.history)\n",
    "best_score = max(hist.history['val_accuracy'])\n",
    "print(f\"Best Validation score is: {best_score}\")"
   ]
  },
  {
   "cell_type": "markdown",
   "metadata": {
    "id": "jsuG0hwdHxOr"
   },
   "source": [
    "<a id=\"7\"></a>\n",
    "# <p style=\"background-image: url(https://i.postimg.cc/K87ByXmr/stage5.jpg);font-family:camtasia;font-size:120%;color:white;text-align:center;border-radius:15px 50px; padding:7px\"> Evaluate The Model </p>\n",
    "<a class=\"btn\" href=\"#home\">Tabel of Contents</a>"
   ]
  },
  {
   "cell_type": "code",
   "execution_count": null,
   "metadata": {
    "editable": false,
    "execution": {
     "iopub.execute_input": "2023-08-18T17:18:35.525179Z",
     "iopub.status.busy": "2023-08-18T17:18:35.524807Z",
     "iopub.status.idle": "2023-08-18T17:18:35.899176Z",
     "shell.execute_reply": "2023-08-18T17:18:35.898275Z",
     "shell.execute_reply.started": "2023-08-18T17:18:35.525146Z"
    },
    "id": "UmzICCemHxOr"
   },
   "outputs": [],
   "source": [
    "# Extract the training and validation loss values from the history object\n",
    "train_loss = hist.history['loss']\n",
    "val_loss = hist.history['val_loss']\n",
    "\n",
    "# Create a list of epoch numbers (1 to number of epochs)\n",
    "epochs = range(1, len(train_loss) + 1)\n",
    "\n",
    "# Plot the loss graph\n",
    "plt.plot(epochs, train_loss, label='Training Loss')\n",
    "plt.plot(epochs, val_loss, label='Validation Loss')\n",
    "plt.title('Training and Validation Loss')\n",
    "plt.xlabel('Epochs')\n",
    "plt.ylabel('Loss')\n",
    "plt.legend()\n",
    "plt.grid(True)\n",
    "plt.show()"
   ]
  },
  {
   "cell_type": "code",
   "execution_count": null,
   "metadata": {
    "editable": false,
    "execution": {
     "iopub.execute_input": "2023-08-18T17:18:48.023015Z",
     "iopub.status.busy": "2023-08-18T17:18:48.022284Z",
     "iopub.status.idle": "2023-08-18T17:18:48.399668Z",
     "shell.execute_reply": "2023-08-18T17:18:48.398696Z",
     "shell.execute_reply.started": "2023-08-18T17:18:48.022979Z"
    },
    "id": "rlQkPkIvHxOs"
   },
   "outputs": [],
   "source": [
    "# Extract the training and validation loss values from the history object\n",
    "train_accuracy = hist.history['accuracy']\n",
    "val_accuracy = hist.history['val_accuracy']\n",
    "\n",
    "# Create a list of epoch numbers (1 to number of epochs)\n",
    "epochs = range(1, len(train_accuracy) + 1)\n",
    "\n",
    "# Plot the loss graph\n",
    "plt.plot(epochs, train_accuracy , label='Training Acc')\n",
    "plt.plot(epochs, val_accuracy, label='Validation Acc')\n",
    "plt.title('Training and Validation Accuracy')\n",
    "plt.xlabel('Epochs')\n",
    "plt.ylabel('Acc')\n",
    "plt.legend()\n",
    "plt.grid(True)\n",
    "plt.show()"
   ]
  },
  {
   "cell_type": "code",
   "execution_count": null,
   "metadata": {
    "id": "MbtHzGaDNIq4"
   },
   "outputs": [],
   "source": [
    "print(\"Loss of model:\", model.evaluate(x_test,y_test)[0])\n",
    "print(\"Accuracy of model:\", model.evaluate(x_test,y_test)[1]*100,\"%\")"
   ]
  },
  {
   "cell_type": "code",
   "execution_count": null,
   "metadata": {
    "id": "9OLKFhHlOH2c"
   },
   "outputs": [],
   "source": [
    "pred = model.predict(x_test)\n",
    "for i in range(len(pred)):\n",
    "  pred[i] = 1 if pred[i].any()>0.5 else 0"
   ]
  },
  {
   "cell_type": "code",
   "execution_count": null,
   "metadata": {
    "id": "-LrmRRiaOHvI"
   },
   "outputs": [],
   "source": [
    "print(classification_report(y_test,\n",
    "                            pred,\n",
    "                            target_names = ['Pneumonia (Class 0)','Normal (Class 1)']))"
   ]
  },
  {
   "cell_type": "code",
   "execution_count": null,
   "metadata": {
    "id": "LUBWhXPcSDfz"
   },
   "outputs": [],
   "source": [
    "cm = confusion_matrix(y_test, pred)\n",
    "cm = pd.DataFrame(cm , index=['0','1'])\n",
    "cm"
   ]
  },
  {
   "cell_type": "markdown",
   "metadata": {
    "id": "qJ5vqg5qHxOs"
   },
   "source": [
    "<a id=\"8\"></a>\n",
    "# <p style=\"background-image: url(https://i.postimg.cc/K87ByXmr/stage5.jpg);font-family:camtasia;font-size:120%;color:white;text-align:center;border-radius:15px 50px; padding:7px\"> Save Model  </p>\n",
    "<a class=\"btn\" href=\"#home\">Tabel of Contents</a>"
   ]
  },
  {
   "cell_type": "code",
   "execution_count": null,
   "metadata": {
    "execution": {
     "iopub.execute_input": "2023-08-15T13:10:27.422487Z",
     "iopub.status.busy": "2023-08-15T13:10:27.422047Z",
     "iopub.status.idle": "2023-08-15T13:10:27.672492Z",
     "shell.execute_reply": "2023-08-15T13:10:27.671159Z",
     "shell.execute_reply.started": "2023-08-15T13:10:27.422446Z"
    },
    "id": "UZsBgOzGHxOt"
   },
   "outputs": [],
   "source": [
    "# Save the model\n",
    "model.save('CNN_model.h5')\n",
    "print (\"Model saved successfully!\")"
   ]
  }
 ],
 "metadata": {
  "accelerator": "TPU",
  "colab": {
   "include_colab_link": true,
   "provenance": []
  },
  "kernelspec": {
   "display_name": "Python 3",
   "language": "python",
   "name": "python3"
  },
  "language_info": {
   "codemirror_mode": {
    "name": "ipython",
    "version": 3
   },
   "file_extension": ".py",
   "mimetype": "text/x-python",
   "name": "python",
   "nbconvert_exporter": "python",
   "pygments_lexer": "ipython3",
   "version": "3.8.5"
  }
 },
 "nbformat": 4,
 "nbformat_minor": 1
}
